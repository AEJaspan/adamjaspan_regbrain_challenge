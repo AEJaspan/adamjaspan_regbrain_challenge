{
 "cells": [
  {
   "cell_type": "code",
   "execution_count": null,
   "source": [
    "import nltk\r\n",
    "def remove_non_words(string):\r\n",
    "    for esc_char in ['-','_','|']:\r\n",
    "        string = string.replace(esc_char, ' ')\r\n",
    "    words = set(nltk.corpus.words.words())\r\n",
    "    return \" \".join(w for w in nltk.wordpunct_tokenize(string) if w.lower() in words)"
   ],
   "outputs": [],
   "metadata": {}
  }
 ],
 "metadata": {
  "orig_nbformat": 4,
  "language_info": {
   "name": "python"
  }
 },
 "nbformat": 4,
 "nbformat_minor": 2
}